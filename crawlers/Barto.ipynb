{
 "cells": [
  {
   "cell_type": "markdown",
   "metadata": {},
   "source": [
    "#  Краулер, собирающий тексты Агнии Барто"
   ]
  },
  {
   "cell_type": "code",
   "execution_count": 13,
   "metadata": {},
   "outputs": [],
   "source": [
    "import requests\n",
    "import json\n",
    "from bs4 import BeautifulSoup\n",
    "from tqdm import tqdm\n",
    "import re"
   ]
  },
  {
   "cell_type": "markdown",
   "metadata": {},
   "source": [
    "Обкачиваю сайт, собирая все стихи."
   ]
  },
  {
   "cell_type": "code",
   "execution_count": 19,
   "metadata": {
    "scrolled": false
   },
   "outputs": [
    {
     "name": "stderr",
     "output_type": "stream",
     "text": [
      "100%|██████████| 97/97 [01:29<00:00,  1.08it/s]\n"
     ]
    }
   ],
   "source": [
    "texts = []\n",
    "for i in tqdm(range(1, 98)):\n",
    "    link = f'https://stihi-rus.ru/1/Barto/{str(i)}.htm'\n",
    "    html = requests.get(link).text\n",
    "    soup = BeautifulSoup(html, 'html.parser')\n",
    "    text = soup.find(\"font\", {\"face\": \"Arial\"})\n",
    "#     удаляю рекламу\n",
    "    text = re.sub(r'\\(function.+?Callbacks\"\\);', '', text.text, flags=re.DOTALL)\n",
    "    texts.append(text)"
   ]
  },
  {
   "cell_type": "markdown",
   "metadata": {},
   "source": [
    "Тестирую цепь изаписываю данные для обучения в json."
   ]
  },
  {
   "cell_type": "code",
   "execution_count": 25,
   "metadata": {},
   "outputs": [],
   "source": [
    "import markovify\n",
    "words = ' '.join(texts).split()\n",
    "train = ' '.join([word.lower() for word in words])\n",
    "m = markovify.Text(train)"
   ]
  },
  {
   "cell_type": "code",
   "execution_count": 41,
   "metadata": {
    "scrolled": true
   },
   "outputs": [],
   "source": [
    "with open('barto.json', 'w', encoding='utf-8') as f:\n",
    "    json.dump(train, f, ensure_ascii=False)"
   ]
  },
  {
   "cell_type": "code",
   "execution_count": 40,
   "metadata": {},
   "outputs": [
    {
     "name": "stdout",
     "output_type": "stream",
     "text": [
      "еще разок ее спасти никите захотелось. - ты не дрался в выходной!\n",
      "я лежу, болею, сам себя не узнавал.\n",
      "так вот с тех пор, с тех пор, как я дрался?\n",
      "однако зиму целую твердил:— я завтра встану на заре, покрашу что-нибудь!\n",
      "я с ней беседу.\n",
      "мне теперь не просто девочка, я у нас в лесу их нет.\n",
      "если он в четвертом классе!\n",
      "и ответил я с девчонками не дрался.\n",
      "я же с птицами случилось?\n",
      "такой бесценный пленный один во всей своей красе.\n"
     ]
    }
   ],
   "source": [
    "for i in range(10):\n",
    "    sentence = m.make_short_sentence(max_chars=80)\n",
    "    while sentence in train:\n",
    "        sentence = m.make_short_sentence(max_chars=80)\n",
    "    print(sentence)"
   ]
  }
 ],
 "metadata": {
  "kernelspec": {
   "display_name": "Python 3",
   "language": "python",
   "name": "python3"
  },
  "language_info": {
   "codemirror_mode": {
    "name": "ipython",
    "version": 3
   },
   "file_extension": ".py",
   "mimetype": "text/x-python",
   "name": "python",
   "nbconvert_exporter": "python",
   "pygments_lexer": "ipython3",
   "version": "3.6.9"
  }
 },
 "nbformat": 4,
 "nbformat_minor": 4
}
