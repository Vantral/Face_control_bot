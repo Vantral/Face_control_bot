{
 "cells": [
  {
   "cell_type": "markdown",
   "metadata": {},
   "source": [
    "# Краулер, собирающий тексты горскопов"
   ]
  },
  {
   "cell_type": "code",
   "execution_count": 1,
   "metadata": {},
   "outputs": [],
   "source": [
    "import requests\n",
    "from bs4 import BeautifulSoup\n",
    "import re\n",
    "from tqdm import tqdm"
   ]
  },
  {
   "cell_type": "code",
   "execution_count": 2,
   "metadata": {},
   "outputs": [],
   "source": [
    "signs = [\n",
    "    'taurus',\n",
    "    'aries',\n",
    "    'gemini',\n",
    "    'cancer',\n",
    "    'leo',\n",
    "    'virgo',\n",
    "    'libra',\n",
    "    'scorpio',\n",
    "    'sagittarius',\n",
    "    'capricorn',\n",
    "    'aquarius',\n",
    "    'pisces'\n",
    "]"
   ]
  },
  {
   "cell_type": "code",
   "execution_count": 3,
   "metadata": {},
   "outputs": [],
   "source": [
    "horo_texts = []"
   ]
  },
  {
   "cell_type": "markdown",
   "metadata": {},
   "source": [
    "Собираю тексты по разным сайтам"
   ]
  },
  {
   "cell_type": "code",
   "execution_count": 4,
   "metadata": {
    "scrolled": true
   },
   "outputs": [
    {
     "name": "stderr",
     "output_type": "stream",
     "text": [
      "100%|██████████| 12/12 [00:19<00:00,  1.61s/it]\n"
     ]
    }
   ],
   "source": [
    "for sign in tqdm(signs):\n",
    "    link = f'https://1001goroskop.ru/?znak={sign}&kn=week'\n",
    "    html = requests.get(link).text\n",
    "    soup = BeautifulSoup(html, 'html.parser')\n",
    "    horo = soup.find(\"div\", {\"itemprop\": \"description\"})\n",
    "    soup = BeautifulSoup(str(horo), 'html.parser')\n",
    "    texts = soup.find_all(\"p\", {})\n",
    "    texts = [text.text for text in texts]\n",
    "    horo_texts.extend(texts)"
   ]
  },
  {
   "cell_type": "code",
   "execution_count": 5,
   "metadata": {},
   "outputs": [
    {
     "name": "stderr",
     "output_type": "stream",
     "text": [
      "100%|██████████| 12/12 [00:21<00:00,  1.78s/it]\n"
     ]
    }
   ],
   "source": [
    "for sign in tqdm(signs):\n",
    "    link = f'https://1001goroskop.ru/?znak={sign}&kn=tomorrow'\n",
    "    html = requests.get(link).text\n",
    "    soup = BeautifulSoup(html, 'html.parser')\n",
    "    horo = soup.find(\"div\", {\"itemprop\": \"description\"})\n",
    "    soup = BeautifulSoup(str(horo), 'html.parser')\n",
    "    texts = soup.find_all(\"p\", {})\n",
    "    texts = [text.text for text in texts]\n",
    "    horo_texts.extend(texts)"
   ]
  },
  {
   "cell_type": "code",
   "execution_count": 6,
   "metadata": {},
   "outputs": [
    {
     "name": "stderr",
     "output_type": "stream",
     "text": [
      "100%|██████████| 12/12 [00:20<00:00,  1.71s/it]\n"
     ]
    }
   ],
   "source": [
    "for sign in tqdm(signs):\n",
    "    link = f'https://1001goroskop.ru/?znak={sign}'\n",
    "    html = requests.get(link).text\n",
    "    soup = BeautifulSoup(html, 'html.parser')\n",
    "    horo = soup.find(\"div\", {\"itemprop\": \"description\"})\n",
    "    soup = BeautifulSoup(str(horo), 'html.parser')\n",
    "    texts = soup.find_all(\"p\", {})\n",
    "    texts = [text.text for text in texts]\n",
    "    horo_texts.extend(texts)"
   ]
  },
  {
   "cell_type": "code",
   "execution_count": 7,
   "metadata": {},
   "outputs": [],
   "source": [
    "link = 'https://www.chita.ru/horoscope/month/'\n",
    "html = requests.get(link).text\n",
    "soup = BeautifulSoup(html, 'html.parser')\n",
    "horo = soup.find_all(\"span\", {})\n",
    "texts = [h.text for h in horo if len(h.text.split()) > 5][:-1]\n",
    "horo_texts.extend(texts)"
   ]
  },
  {
   "cell_type": "code",
   "execution_count": 8,
   "metadata": {
    "scrolled": true
   },
   "outputs": [
    {
     "name": "stderr",
     "output_type": "stream",
     "text": [
      "  0%|          | 0/12 [00:00<?, ?it/s]\n",
      "  0%|          | 0/6 [00:00<?, ?it/s]\u001b[A\n",
      " 17%|█▋        | 1/6 [00:02<00:10,  2.15s/it]\u001b[A\n",
      " 33%|███▎      | 2/6 [00:03<00:08,  2.05s/it]\u001b[A\n",
      " 50%|█████     | 3/6 [00:05<00:05,  1.95s/it]\u001b[A\n",
      " 67%|██████▋   | 4/6 [00:07<00:03,  1.85s/it]\u001b[A\n",
      " 83%|████████▎ | 5/6 [00:08<00:01,  1.77s/it]\u001b[A\n",
      "100%|██████████| 6/6 [00:10<00:00,  1.79s/it]\u001b[A\n",
      "  8%|▊         | 1/12 [00:10<01:58, 10.77s/it]\n",
      "  0%|          | 0/6 [00:00<?, ?it/s]\u001b[A\n",
      " 17%|█▋        | 1/6 [00:01<00:08,  1.68s/it]\u001b[A\n",
      " 33%|███▎      | 2/6 [00:03<00:06,  1.70s/it]\u001b[A\n",
      " 50%|█████     | 3/6 [00:05<00:05,  1.79s/it]\u001b[A\n",
      " 67%|██████▋   | 4/6 [00:07<00:03,  1.85s/it]\u001b[A\n",
      " 83%|████████▎ | 5/6 [00:09<00:01,  1.85s/it]\u001b[A\n",
      "100%|██████████| 6/6 [00:11<00:00,  1.85s/it]\u001b[A\n",
      " 17%|█▋        | 2/12 [00:21<01:48, 10.86s/it]\n",
      "  0%|          | 0/6 [00:00<?, ?it/s]\u001b[A\n",
      " 17%|█▋        | 1/6 [00:02<00:11,  2.28s/it]\u001b[A\n",
      " 33%|███▎      | 2/6 [00:04<00:09,  2.27s/it]\u001b[A\n",
      " 50%|█████     | 3/6 [00:06<00:06,  2.13s/it]\u001b[A\n",
      " 67%|██████▋   | 4/6 [00:08<00:04,  2.12s/it]\u001b[A\n",
      " 83%|████████▎ | 5/6 [00:10<00:02,  2.09s/it]\u001b[A\n",
      "100%|██████████| 6/6 [00:15<00:00,  2.51s/it]\u001b[A\n",
      " 25%|██▌       | 3/12 [00:36<01:49, 12.12s/it]\n",
      "  0%|          | 0/6 [00:00<?, ?it/s]\u001b[A\n",
      " 17%|█▋        | 1/6 [00:02<00:10,  2.10s/it]\u001b[A\n",
      " 33%|███▎      | 2/6 [00:03<00:08,  2.02s/it]\u001b[A\n",
      " 50%|█████     | 3/6 [00:05<00:06,  2.01s/it]\u001b[A\n",
      " 67%|██████▋   | 4/6 [00:07<00:03,  1.99s/it]\u001b[A\n",
      " 83%|████████▎ | 5/6 [00:09<00:01,  1.87s/it]\u001b[A\n",
      "100%|██████████| 6/6 [00:11<00:00,  1.87s/it]\u001b[A\n",
      " 33%|███▎      | 4/12 [00:48<01:34, 11.86s/it]\n",
      "  0%|          | 0/6 [00:00<?, ?it/s]\u001b[A\n",
      " 17%|█▋        | 1/6 [00:01<00:08,  1.74s/it]\u001b[A\n",
      " 33%|███▎      | 2/6 [00:03<00:07,  1.77s/it]\u001b[A\n",
      " 50%|█████     | 3/6 [00:05<00:05,  1.74s/it]\u001b[A\n",
      " 67%|██████▋   | 4/6 [00:07<00:03,  1.75s/it]\u001b[A\n",
      " 83%|████████▎ | 5/6 [00:09<00:01,  1.83s/it]\u001b[A\n",
      "100%|██████████| 6/6 [00:10<00:00,  1.81s/it]\u001b[A\n",
      " 42%|████▏     | 5/12 [00:59<01:20, 11.55s/it]\n",
      "  0%|          | 0/6 [00:00<?, ?it/s]\u001b[A\n",
      " 17%|█▋        | 1/6 [00:01<00:08,  1.68s/it]\u001b[A\n",
      " 33%|███▎      | 2/6 [00:03<00:07,  1.86s/it]\u001b[A\n",
      " 50%|█████     | 3/6 [00:05<00:05,  1.87s/it]\u001b[A\n",
      " 67%|██████▋   | 4/6 [00:07<00:03,  1.86s/it]\u001b[A\n",
      " 83%|████████▎ | 5/6 [00:09<00:01,  1.84s/it]\u001b[A\n",
      "100%|██████████| 6/6 [00:11<00:00,  1.85s/it]\u001b[A\n",
      " 50%|█████     | 6/12 [01:10<01:08, 11.41s/it]\n",
      "  0%|          | 0/6 [00:00<?, ?it/s]\u001b[A\n",
      " 17%|█▋        | 1/6 [00:02<00:11,  2.32s/it]\u001b[A\n",
      " 33%|███▎      | 2/6 [00:04<00:08,  2.22s/it]\u001b[A\n",
      " 50%|█████     | 3/6 [00:06<00:06,  2.13s/it]\u001b[A\n",
      " 67%|██████▋   | 4/6 [00:08<00:04,  2.09s/it]\u001b[A\n",
      " 83%|████████▎ | 5/6 [00:10<00:02,  2.01s/it]\u001b[A\n",
      "100%|██████████| 6/6 [00:11<00:00,  1.94s/it]\u001b[A\n",
      " 58%|█████▊    | 7/12 [01:21<00:57, 11.48s/it]\n",
      "  0%|          | 0/6 [00:00<?, ?it/s]\u001b[A\n",
      " 17%|█▋        | 1/6 [00:01<00:08,  1.68s/it]\u001b[A\n",
      " 33%|███▎      | 2/6 [00:03<00:07,  1.78s/it]\u001b[A\n",
      " 50%|█████     | 3/6 [00:05<00:05,  1.80s/it]\u001b[A\n",
      " 67%|██████▋   | 4/6 [00:07<00:03,  1.83s/it]\u001b[A\n",
      " 83%|████████▎ | 5/6 [00:09<00:01,  1.83s/it]\u001b[A\n",
      "100%|██████████| 6/6 [00:11<00:00,  1.92s/it]\u001b[A\n",
      " 67%|██████▋   | 8/12 [01:33<00:45, 11.49s/it]\n",
      "  0%|          | 0/6 [00:00<?, ?it/s]\u001b[A\n",
      " 17%|█▋        | 1/6 [00:01<00:09,  1.93s/it]\u001b[A\n",
      " 33%|███▎      | 2/6 [00:03<00:07,  1.85s/it]\u001b[A\n",
      " 50%|█████     | 3/6 [00:05<00:05,  1.87s/it]\u001b[A\n",
      " 67%|██████▋   | 4/6 [00:07<00:03,  1.81s/it]\u001b[A\n",
      " 83%|████████▎ | 5/6 [00:11<00:02,  2.42s/it]\u001b[A\n",
      "100%|██████████| 6/6 [00:13<00:00,  2.19s/it]\u001b[A\n",
      " 75%|███████▌  | 9/12 [01:46<00:35, 11.98s/it]\n",
      "  0%|          | 0/6 [00:00<?, ?it/s]\u001b[A\n",
      " 17%|█▋        | 1/6 [00:01<00:09,  1.98s/it]\u001b[A\n",
      " 33%|███▎      | 2/6 [00:03<00:07,  1.97s/it]\u001b[A\n",
      " 50%|█████     | 3/6 [00:05<00:05,  1.95s/it]\u001b[A\n",
      " 67%|██████▋   | 4/6 [00:07<00:03,  1.87s/it]\u001b[A\n",
      " 83%|████████▎ | 5/6 [00:09<00:01,  1.86s/it]\u001b[A\n",
      "100%|██████████| 6/6 [00:11<00:00,  1.88s/it]\u001b[A\n",
      " 83%|████████▎ | 10/12 [01:57<00:23, 11.77s/it]\n",
      "  0%|          | 0/6 [00:00<?, ?it/s]\u001b[A\n",
      " 17%|█▋        | 1/6 [00:01<00:08,  1.78s/it]\u001b[A\n",
      " 33%|███▎      | 2/6 [00:03<00:07,  1.80s/it]\u001b[A\n",
      " 50%|█████     | 3/6 [00:06<00:06,  2.16s/it]\u001b[A\n",
      " 67%|██████▋   | 4/6 [00:08<00:04,  2.10s/it]\u001b[A\n",
      " 83%|████████▎ | 5/6 [00:10<00:02,  2.11s/it]\u001b[A\n",
      "100%|██████████| 6/6 [00:12<00:00,  2.07s/it]\u001b[A\n",
      " 92%|█████████▏| 11/12 [02:10<00:11, 11.96s/it]\n",
      "  0%|          | 0/6 [00:00<?, ?it/s]\u001b[A\n",
      " 17%|█▋        | 1/6 [00:02<00:10,  2.17s/it]\u001b[A\n",
      " 33%|███▎      | 2/6 [00:05<00:10,  2.50s/it]\u001b[A\n",
      " 50%|█████     | 3/6 [00:07<00:07,  2.33s/it]\u001b[A\n",
      " 67%|██████▋   | 4/6 [00:09<00:04,  2.18s/it]\u001b[A\n",
      " 83%|████████▎ | 5/6 [00:10<00:02,  2.03s/it]\u001b[A\n",
      "100%|██████████| 6/6 [00:14<00:00,  2.38s/it]\u001b[A\n",
      "100%|██████████| 12/12 [02:24<00:00, 12.03s/it]\n"
     ]
    }
   ],
   "source": [
    "for sign in tqdm(signs):\n",
    "    for time in tqdm(['yesterday', 'today', 'tomorrow', 'week', 'month', 'year']):\n",
    "        link = f'https://horo.mail.ru/prediction/{sign}/{time}/'\n",
    "        html = requests.get(link).text\n",
    "        soup = BeautifulSoup(html, 'html.parser')\n",
    "        horo = soup.find(\"div\", {\"class\": \"article__item article__item_alignment_left article__item_html\"})\n",
    "        horo_texts.append(horo)"
   ]
  },
  {
   "cell_type": "code",
   "execution_count": 9,
   "metadata": {
    "scrolled": true
   },
   "outputs": [
    {
     "name": "stderr",
     "output_type": "stream",
     "text": [
      "100%|██████████| 2/2 [00:02<00:00,  1.29s/it]\n",
      "100%|██████████| 3/3 [00:04<00:00,  1.49s/it]\n"
     ]
    }
   ],
   "source": [
    "for time in tqdm(['week', 'month']):\n",
    "    link = f'http://new-year.dvorec.ru/{time}.php'\n",
    "    html = requests.get(link).text\n",
    "    soup = BeautifulSoup(html, 'html.parser')\n",
    "    horo = soup.find_all(\"table\", {\"border\": \"0\", \"width\": \"100%\", \"cellspacing\": \"0\", \"cellpadding\": \"0\"})\n",
    "    text = horo[5].text\n",
    "    text = re.sub('\\n\\n.+?на неделю', '', text)\n",
    "    text = re.sub('\\n\\n.+?на месяц', '', text)\n",
    "    horo_texts.append(text)\n",
    "\n",
    "\n",
    "for time in tqdm(['yesterday', 'today', 'tomorrow']):\n",
    "    link = f'http://new-year.dvorec.ru/{time}.php'\n",
    "    html = requests.get(link).text\n",
    "    soup = BeautifulSoup(html, 'html.parser')\n",
    "    horo = soup.find_all(\"table\", {\"border\": \"0\", \"width\": \"100%\", \"cellspacing\": \"0\", \"cellpadding\": \"0\"})\n",
    "    text = horo[6].text\n",
    "    text = re.sub('\\n\\n.+?на сегодня', '', text)\n",
    "    text = re.sub('\\n\\n.+?на вчера', '', text)\n",
    "    text = re.sub('\\n\\n.+?на завтра', '', text)\n",
    "    horo_texts.append(text)"
   ]
  },
  {
   "cell_type": "code",
   "execution_count": 10,
   "metadata": {},
   "outputs": [],
   "source": [
    "link = 'https://www.newwoman.ru/goroskop.html'\n",
    "html = requests.get(link)\n",
    "html = html.content.decode('utf-8')\n",
    "soup = BeautifulSoup(html, 'html.parser')\n",
    "horo = soup.find_all(\"span\", {\"style\": \"color: #000000;\"})\n",
    "for h in horo:\n",
    "    if len(h.text.split()) > 5:\n",
    "        horo_texts.append(h.text)"
   ]
  },
  {
   "cell_type": "markdown",
   "metadata": {},
   "source": [
    "Удаляю дубликаты."
   ]
  },
  {
   "cell_type": "code",
   "execution_count": 12,
   "metadata": {},
   "outputs": [],
   "source": [
    "horo_texts = list(set(horo_texts))"
   ]
  },
  {
   "cell_type": "code",
   "execution_count": 13,
   "metadata": {},
   "outputs": [
    {
     "data": {
      "text/plain": [
       "28268"
      ]
     },
     "execution_count": 13,
     "metadata": {},
     "output_type": "execute_result"
    }
   ],
   "source": [
    "len(' '.join(horo_texts).split())"
   ]
  },
  {
   "cell_type": "markdown",
   "metadata": {},
   "source": [
    "Тестирую цепь."
   ]
  },
  {
   "cell_type": "code",
   "execution_count": 14,
   "metadata": {},
   "outputs": [],
   "source": [
    "import markovify\n",
    "train = ' '.join(horo_texts)\n",
    "m = markovify.Text(train)"
   ]
  },
  {
   "cell_type": "code",
   "execution_count": 15,
   "metadata": {},
   "outputs": [
    {
     "name": "stdout",
     "output_type": "stream",
     "text": [
      "Вам должно хватить веры в свои сугубо личные дела.\n",
      "Сегодня в течение года будет несколько проще преодолеть преграды.\n",
      "Особое внимание стоит обратить на них внимание.\n",
      "При всех своих секретов и не ждите помощи даже от тех, кого вы, в свое время, очень поддержали.\n",
      "В нем появятся новые люди, с которыми не нужно ломать голову.\n",
      "От этого будет зависеть от того, какая ситуация будет играть ему в голову!\n",
      "Хорошо, если в них режиссерскую роль.\n",
      "Планы Девы будут отличаться логичностью и неожиданностью ходов.\n",
      "Именно в это время вероятнее депрессии.\n",
      "Потому что в этот период вы рискуете потерять шанс реализовать представившиеся возможности.\n"
     ]
    }
   ],
   "source": [
    "for i in range(10):\n",
    "    sentence = m.make_short_sentence(max_chars=100)\n",
    "    while sentence in train:\n",
    "        sentence = m.make_short_sentence(max_chars=100)\n",
    "    print(sentence)"
   ]
  },
  {
   "cell_type": "markdown",
   "metadata": {},
   "source": [
    "Записываю данные в json."
   ]
  },
  {
   "cell_type": "code",
   "execution_count": 16,
   "metadata": {},
   "outputs": [],
   "source": [
    "import json"
   ]
  },
  {
   "cell_type": "code",
   "execution_count": 19,
   "metadata": {},
   "outputs": [],
   "source": [
    "with open('list_for_models.json', 'w', encoding='utf-8') as f:\n",
    "    json.dump(horo_texts, f, ensure_ascii=False)"
   ]
  }
 ],
 "metadata": {
  "kernelspec": {
   "display_name": "Python 3",
   "language": "python",
   "name": "python3"
  },
  "language_info": {
   "codemirror_mode": {
    "name": "ipython",
    "version": 3
   },
   "file_extension": ".py",
   "mimetype": "text/x-python",
   "name": "python",
   "nbconvert_exporter": "python",
   "pygments_lexer": "ipython3",
   "version": "3.6.9"
  }
 },
 "nbformat": 4,
 "nbformat_minor": 4
}
